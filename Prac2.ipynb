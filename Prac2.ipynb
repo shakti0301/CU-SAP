{
 "cells": [
  {
   "cell_type": "code",
   "execution_count": 16,
   "id": "75cc068f-1af1-4314-9c92-04594ccbc432",
   "metadata": {},
   "outputs": [
    {
     "name": "stdout",
     "output_type": "stream",
     "text": [
      "Elements of array:  [1 3 5 7 9]\n",
      "Indexed Elements of array arr:  [9 1 5 9 7]\n"
     ]
    }
   ],
   "source": [
    "import numpy as np\n",
    "arr = np.arange(1,10,2)\n",
    "print(\"Elements of array: \", arr)\n",
    "arr1 = arr[np.array([4,0,2,-1,-2])]\n",
    "print(\"Indexed Elements of array arr: \", arr1)"
   ]
  },
  {
   "cell_type": "code",
   "execution_count": 18,
   "id": "aa51b22c-1f90-4d2a-b365-7a10af407278",
   "metadata": {},
   "outputs": [
    {
     "name": "stdout",
     "output_type": "stream",
     "text": [
      "Array arr11:  [0 1 2 3 4]\n",
      "Element at index 0 of arri is:  0\n",
      "Element at index 1 of ari is:  1\n"
     ]
    }
   ],
   "source": [
    "arr1 = np.arange(5)\n",
    "print(\"Array arr11: \", arr1)\n",
    "print(\"Element at index 0 of arri is: \", arr1[0])\n",
    "print(\"Element at index 1 of ari is: \", arr1[1])\n"
   ]
  },
  {
   "cell_type": "code",
   "execution_count": 20,
   "id": "d93307fe-68b9-4d81-99e3-f68667e47bfe",
   "metadata": {},
   "outputs": [
    {
     "name": "stdout",
     "output_type": "stream",
     "text": [
      "[[ 0  1  2  3]\n",
      " [ 4  5  6  7]\n",
      " [ 8  9 10 11]]\n",
      "Element at each row and eth column of arr1 is:  0\n",
      "Element at 1st row and 2nd column of arr1 is:  6\n"
     ]
    }
   ],
   "source": [
    "arr = np.arange(12)\n",
    "arr1 = arr.reshape(3,4)\n",
    "print(arr1)\n",
    "print(\"Element at each row and eth column of arr1 is: \", arr1[0,0])\n",
    "print(\"Element at 1st row and 2nd column of arr1 is: \", arr1[1,2])\n"
   ]
  },
  {
   "cell_type": "code",
   "execution_count": 22,
   "id": "efb55ea8-dae8-4654-ac73-9e574b05c28b",
   "metadata": {},
   "outputs": [
    {
     "name": "stdout",
     "output_type": "stream",
     "text": [
      "[[[ 0  1  2]\n",
      "  [ 3  4  5]]\n",
      "\n",
      " [[ 6  7  8]\n",
      "  [ 9 10 11]]]\n",
      "Element:  8\n"
     ]
    }
   ],
   "source": [
    "arr = np.arange(12)\n",
    "arr1 = arr.reshape(2,2,3)\n",
    "print(arr1)\n",
    "print(\"Element: \", arr1[1,0,2])"
   ]
  },
  {
   "cell_type": "code",
   "execution_count": 24,
   "id": "6102d27f-b1cd-4b60-bd33-d68bedfe9217",
   "metadata": {},
   "outputs": [
    {
     "name": "stdout",
     "output_type": "stream",
     "text": [
      "[0 1 2 3 4 5]\n",
      "Sliced eleent of array:  [1 2 3 4]\n"
     ]
    }
   ],
   "source": [
    "arr = np.arange(6)\n",
    "print(arr)\n",
    "print(\"Sliced eleent of array: \", arr[1:5])"
   ]
  },
  {
   "cell_type": "code",
   "execution_count": 26,
   "id": "528f8cfb-0e19-4ccb-b3b1-d8d9d3cab8d7",
   "metadata": {},
   "outputs": [
    {
     "name": "stdout",
     "output_type": "stream",
     "text": [
      "[[ 0  1  2  3]\n",
      " [ 4  5  6  7]\n",
      " [ 8  9 10 11]]\n",
      "Element of 1st row and 1st column upto last column  \n",
      " [[ 5  6  7]\n",
      " [ 9 10 11]]\n"
     ]
    }
   ],
   "source": [
    "arr = np.arange(12)\n",
    "arr1 = arr.reshape(3,4)\n",
    "print(arr1)\n",
    "print(\"Element of 1st row and 1st column upto last column  \\n\", arr1[1:,1:4])"
   ]
  },
  {
   "cell_type": "code",
   "execution_count": 28,
   "id": "dcd6a06a-2c5e-47f2-86ac-c77002e84e2a",
   "metadata": {},
   "outputs": [
    {
     "name": "stdout",
     "output_type": "stream",
     "text": [
      "[[1 2 3]\n",
      " [4 5 6]]\n"
     ]
    }
   ],
   "source": [
    "import numpy as np\n",
    "\n",
    "tdarr = np.array([[1,2,3],[4,5,6]])\n",
    "print (tdarr)"
   ]
  },
  {
   "cell_type": "code",
   "execution_count": 30,
   "id": "2ca27252-2b0d-45ea-8d86-5824fce6ce82",
   "metadata": {},
   "outputs": [
    {
     "name": "stdout",
     "output_type": "stream",
     "text": [
      "[[[ 1  2]\n",
      "  [ 3  4]]\n",
      "\n",
      " [[ 5  6]\n",
      "  [ 5  3]]\n",
      "\n",
      " [[ 3  5]\n",
      "  [ 3 33]]]\n"
     ]
    }
   ],
   "source": [
    "threed = np.array([[[1,2],[3,4]],\n",
    "                   [[5,6],[5,3]],\n",
    "                   [[3,5],[3,33]]])\n",
    "print(threed)\n"
   ]
  },
  {
   "cell_type": "code",
   "execution_count": 32,
   "id": "d94ce1dc-0527-461c-882f-58250106b905",
   "metadata": {},
   "outputs": [
    {
     "name": "stdout",
     "output_type": "stream",
     "text": [
      "2\n"
     ]
    }
   ],
   "source": [
    "print(tdarr.ndim)"
   ]
  },
  {
   "cell_type": "code",
   "execution_count": 34,
   "id": "357bb659-ccea-4eaf-b6f0-2a3c634f9716",
   "metadata": {},
   "outputs": [
    {
     "name": "stdout",
     "output_type": "stream",
     "text": [
      "3\n"
     ]
    }
   ],
   "source": [
    "print(threed.ndim)"
   ]
  },
  {
   "cell_type": "code",
   "execution_count": 51,
   "id": "d9ca1617-50f8-4049-aedf-7dd0e74672f8",
   "metadata": {},
   "outputs": [
    {
     "name": "stdout",
     "output_type": "stream",
     "text": [
      "[[ 0  1  2  3]\n",
      " [ 4  5  6  7]\n",
      " [ 8  9 10 11]]\n",
      "\n",
      "\n",
      "[[ 9 10]]\n"
     ]
    }
   ],
   "source": [
    "arr = np.arange(12)\n",
    "arr1 = arr.reshape(3,4)\n",
    "print(arr1)\n",
    "print(\"\\n\")\n",
    "print( arr1[2:,1:3])"
   ]
  },
  {
   "cell_type": "code",
   "execution_count": 55,
   "id": "1d2658a0-ebd0-449e-b0d5-93f66d69feb8",
   "metadata": {},
   "outputs": [
    {
     "name": "stdout",
     "output_type": "stream",
     "text": [
      "[1 5 9]\n"
     ]
    }
   ],
   "source": [
    "print( arr1[0:,1])"
   ]
  },
  {
   "cell_type": "code",
   "execution_count": 63,
   "id": "df1490ce-c517-49c2-b4f1-a9dcf15977cd",
   "metadata": {},
   "outputs": [
    {
     "name": "stdout",
     "output_type": "stream",
     "text": [
      "[[4 5]\n",
      " [8 9]]\n"
     ]
    }
   ],
   "source": [
    "print( arr1[1:,0:2])"
   ]
  },
  {
   "cell_type": "code",
   "execution_count": 65,
   "id": "dd891cb9-5aac-43c9-8461-fb70292e2542",
   "metadata": {},
   "outputs": [
    {
     "name": "stdout",
     "output_type": "stream",
     "text": [
      "[[ 6  7]\n",
      " [10 11]]\n"
     ]
    }
   ],
   "source": [
    "print( arr1[1:,2:])"
   ]
  },
  {
   "cell_type": "code",
   "execution_count": 67,
   "id": "620ea790-4b71-4824-809d-4c996347afda",
   "metadata": {},
   "outputs": [
    {
     "name": "stdout",
     "output_type": "stream",
     "text": [
      "[ 3  7 11]\n"
     ]
    }
   ],
   "source": [
    "print( arr1[0:,3])"
   ]
  },
  {
   "cell_type": "code",
   "execution_count": 69,
   "id": "799d5c59-c543-4b1f-b25d-a81355efc321",
   "metadata": {},
   "outputs": [
    {
     "name": "stdout",
     "output_type": "stream",
     "text": [
      "[1 2 3]\n"
     ]
    }
   ],
   "source": [
    "print( arr1[0,1:4])"
   ]
  },
  {
   "cell_type": "code",
   "execution_count": 80,
   "id": "d3406ce1-bbac-433e-b36f-5c533fe1f4cd",
   "metadata": {},
   "outputs": [],
   "source": [
    "a = np.array([[0.0,0.0,0.0],[10.0,10.0,10.0],[20.0,20.0,20.0],[30.0,30.0,30.0]])\n",
    "b = np.array([1.0,2.0,3.0])"
   ]
  },
  {
   "cell_type": "code",
   "execution_count": 85,
   "id": "85d1b238-6655-4dbc-86ed-f24d99c2fa9e",
   "metadata": {},
   "outputs": [
    {
     "name": "stdout",
     "output_type": "stream",
     "text": [
      "first array:\n",
      "[[ 0.  0.  0.]\n",
      " [10. 10. 10.]\n",
      " [20. 20. 20.]\n",
      " [30. 30. 30.]]\n",
      "\n",
      "\n",
      "Second array:\n",
      "[1. 2. 3.]\n"
     ]
    }
   ],
   "source": [
    "print(\"first array:\")\n",
    "print(a)\n",
    "print('\\n')\n",
    "\n",
    "print(\"Second array:\")\n",
    "print(b)"
   ]
  },
  {
   "cell_type": "code",
   "execution_count": 90,
   "id": "11afc9e2-0c48-487e-94fe-e0fb1c573908",
   "metadata": {},
   "outputs": [
    {
     "name": "stdout",
     "output_type": "stream",
     "text": [
      "First array + Seconf array\n",
      "[[ 1.  2.  3.]\n",
      " [11. 12. 13.]\n",
      " [21. 22. 23.]\n",
      " [31. 32. 33.]]\n"
     ]
    }
   ],
   "source": [
    "print (\"First array + Seconf array\")\n",
    "print(a+b)"
   ]
  },
  {
   "cell_type": "code",
   "execution_count": 96,
   "id": "6b87e7b1-1dda-4552-a074-a3487e36fb3b",
   "metadata": {},
   "outputs": [
    {
     "name": "stdout",
     "output_type": "stream",
     "text": [
      "[('Sana', 2, 21.) ('Mansi', 7, 29.)]\n"
     ]
    }
   ],
   "source": [
    "a = np.array([('Sana', 2, 21.0), ('Mansi', 7,29.0)],\n",
    "             dtype=[('name', (np.str_, 10)),\n",
    "                    ('age', np.int32),\n",
    "                    ('weight', np.float64)])\n",
    "print(a)"
   ]
  },
  {
   "cell_type": "code",
   "execution_count": 118,
   "id": "923cbd4d-165f-4c9c-ad2d-16583606911c",
   "metadata": {},
   "outputs": [
    {
     "name": "stdout",
     "output_type": "stream",
     "text": [
      "[1 3 5 7 9]\n",
      "5.0\n",
      "5.0\n",
      "8\n",
      "2.8284271247461903\n",
      "8.0\n"
     ]
    }
   ],
   "source": [
    "arr = np.arange(1,10,2)\n",
    "print(arr)\n",
    "mean = np.mean(arr)\n",
    "median = np.median(arr)\n",
    "range = np.ptp(arr)\n",
    "std = np.std(arr)\n",
    "var = np.var(arr)\n",
    "print(mean)\n",
    "print(median)\n",
    "print(range)\n",
    "print(std)\n",
    "print(var)"
   ]
  },
  {
   "cell_type": "code",
   "execution_count": 120,
   "id": "f575fe08-2ca2-4fb3-bc20-40d5ea9e9e76",
   "metadata": {},
   "outputs": [],
   "source": [
    "arr = np.arange(0,10)"
   ]
  },
  {
   "cell_type": "code",
   "execution_count": 122,
   "id": "ec490d7e-65ae-42e2-afeb-e65bba65da83",
   "metadata": {},
   "outputs": [
    {
     "name": "stdout",
     "output_type": "stream",
     "text": [
      "[0 1 2 3 4 5 6 7 8 9]\n"
     ]
    }
   ],
   "source": [
    "print(arr)"
   ]
  },
  {
   "cell_type": "code",
   "execution_count": 124,
   "id": "9eb9ce95-0620-429b-9a2a-de6330c7633f",
   "metadata": {},
   "outputs": [
    {
     "name": "stdout",
     "output_type": "stream",
     "text": [
      "[ 0  2  4  6  8 10 12 14 16 18]\n"
     ]
    }
   ],
   "source": [
    "print (arr+arr)"
   ]
  },
  {
   "cell_type": "code",
   "execution_count": 126,
   "id": "a89983f0-fe89-4cd4-884c-a824c5c00df2",
   "metadata": {},
   "outputs": [
    {
     "name": "stdout",
     "output_type": "stream",
     "text": [
      "[ 0  1  4  9 16 25 36 49 64 81]\n"
     ]
    }
   ],
   "source": [
    "print (arr*arr)"
   ]
  },
  {
   "cell_type": "code",
   "execution_count": null,
   "id": "44fa0b00-91a6-4ee5-b5cf-93fe1d61dafb",
   "metadata": {},
   "outputs": [],
   "source": []
  }
 ],
 "metadata": {
  "kernelspec": {
   "display_name": "Python 3 (ipykernel)",
   "language": "python",
   "name": "python3"
  },
  "language_info": {
   "codemirror_mode": {
    "name": "ipython",
    "version": 3
   },
   "file_extension": ".py",
   "mimetype": "text/x-python",
   "name": "python",
   "nbconvert_exporter": "python",
   "pygments_lexer": "ipython3",
   "version": "3.12.4"
  }
 },
 "nbformat": 4,
 "nbformat_minor": 5
}
