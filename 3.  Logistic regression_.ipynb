{
 "cells": [
  {
   "cell_type": "code",
   "execution_count": 1,
   "id": "a1521ae2-46e0-4359-ba39-8af37b5dcae0",
   "metadata": {},
   "outputs": [
    {
     "name": "stdout",
     "output_type": "stream",
     "text": [
      "   carbon_emissions  energy_output  renewability_index  cost_efficiency  \\\n",
      "0        181.089042     128.286267            0.642032         0.732568   \n",
      "1        382.750007     672.769370            0.084140         2.891096   \n",
      "2        306.197880     382.920383            0.161629         2.932858   \n",
      "3        259.530469     557.713622            0.898554         3.368435   \n",
      "4        104.606524     916.809827            0.606429         3.767411   \n",
      "\n",
      "   sustainability  \n",
      "0               1  \n",
      "1               0  \n",
      "2               0  \n",
      "3               0  \n",
      "4               0  \n"
     ]
    }
   ],
   "source": [
    "import pandas as pd\n",
    "import numpy as np\n",
    "\n",
    "# Set random seed for reproducibility\n",
    "np.random.seed(42)\n",
    "\n",
    "# Define number of samples\n",
    "num_samples = 100\n",
    "\n",
    "# Generate synthetic data\n",
    "carbon_emissions = np.random.uniform(50, 400, num_samples)  # Emissions in hypothetical units\n",
    "energy_output = np.random.uniform(100, 1000, num_samples)   # Energy output in hypothetical units\n",
    "renewability_index = np.random.uniform(0, 1, num_samples)   # Index from 0 (non-renewable) to 1 (fully renewable)\n",
    "cost_efficiency = np.random.uniform(0.5, 5, num_samples)    # Cost efficiency score\n",
    "\n",
    "# Generating a binary target variable based on a condition\n",
    "# This is just an example: high renewability and low emissions favor sustainability\n",
    "sustainability = [\n",
    "    1 if (emission < 200 and renewability > 0.5 and cost < 3) else 0\n",
    "    for emission, renewability, cost in zip(carbon_emissions, \n",
    "                                            renewability_index, \n",
    "                                            cost_efficiency)\n",
    "]\n",
    "\n",
    "# Create DataFrame\n",
    "data = pd.DataFrame({\n",
    "    'carbon_emissions': carbon_emissions,\n",
    "    'energy_output': energy_output,\n",
    "    'renewability_index': renewability_index,\n",
    "    'cost_efficiency': cost_efficiency,\n",
    "    'sustainability': sustainability\n",
    "})\n",
    "\n",
    "# Display the first few rows\n",
    "print(data.head())\n",
    "\n",
    "# Optionally, save to CSV for later use\n",
    "data.to_csv('dataset/green_tech_data.csv', index=False)\n"
   ]
  },
  {
   "cell_type": "code",
   "execution_count": 2,
   "id": "6f5ba32c-1d54-4de0-adba-640ae23689b3",
   "metadata": {},
   "outputs": [
    {
     "ename": "SyntaxError",
     "evalue": "trailing comma not allowed without surrounding parentheses (<ipython-input-2-7aded6592964>, line 5)",
     "output_type": "error",
     "traceback": [
      "\u001b[1;36m  File \u001b[1;32m\"<ipython-input-2-7aded6592964>\"\u001b[1;36m, line \u001b[1;32m5\u001b[0m\n\u001b[1;33m    from sklearn.metrics import accuracy_score, confusion_matrix,\u001b[0m\n\u001b[1;37m                                ^\u001b[0m\n\u001b[1;31mSyntaxError\u001b[0m\u001b[1;31m:\u001b[0m trailing comma not allowed without surrounding parentheses\n"
     ]
    }
   ],
   "source": [
    "import pandas as pd\n",
    "import numpy as np\n",
    "from sklearn.model_selection import train_test_split\n",
    "from sklearn.linear_model import LogisticRegression\n",
    "from sklearn.metrics import accuracy_score, confusion_matrix, \n",
    "classification_report\n",
    "import seaborn as sns\n",
    "import matplotlib.pyplot as plt"
   ]
  },
  {
   "cell_type": "code",
   "execution_count": null,
   "id": "d1baeecb-278b-4c16-9d4b-6770901fe386",
   "metadata": {},
   "outputs": [],
   "source": [
    "# Load the dataset\n",
    "data = pd.read_csv('green_tech_data.csv')\n",
    "# Inspect for missing values and general structure\n",
    "print(data.head())\n",
    "print(data.isnull().sum())\n",
    "# Handle missing values if necessary\n",
    "data.fillna(data.mean(), inplace=True)"
   ]
  },
  {
   "cell_type": "code",
   "execution_count": null,
   "id": "eda552c4-e828-4389-95b5-d7d94160c7ba",
   "metadata": {},
   "outputs": [],
   "source": [
    "# Example feature selection\n",
    "X = data[['carbon_emissions', 'energy_output', \n",
    "          'renewability_index', 'cost_efficiency']]\n",
    "y = data['sustainability']  # Target variable"
   ]
  },
  {
   "cell_type": "code",
   "execution_count": null,
   "id": "f460a71a-7368-416d-a01e-7f7ef4d1e8c4",
   "metadata": {},
   "outputs": [],
   "source": [
    "X_train, X_test, y_train, y_test = train_test_split(X, y, test_size=0.2, random_state=42)"
   ]
  },
  {
   "cell_type": "code",
   "execution_count": null,
   "id": "7feb4a5c-0020-4d0a-aff0-8d8ab1a1ac34",
   "metadata": {},
   "outputs": [],
   "source": [
    "model = LogisticRegression()\n",
    "model.fit(X_train, y_train)"
   ]
  },
  {
   "cell_type": "code",
   "execution_count": null,
   "id": "1d7a5001-f067-4569-a98e-a2c6f5a58923",
   "metadata": {},
   "outputs": [],
   "source": [
    "y_pred = model.predict(X_test)"
   ]
  },
  {
   "cell_type": "code",
   "execution_count": null,
   "id": "42c720c7-da53-47ca-93b9-77ec1ecc2c8f",
   "metadata": {},
   "outputs": [],
   "source": [
    "y_pred"
   ]
  },
  {
   "cell_type": "code",
   "execution_count": null,
   "id": "05f9af0e-1b4a-49b0-8db6-6bf12e8eddf4",
   "metadata": {},
   "outputs": [],
   "source": [
    "# Accuracy Score\n",
    "accuracy = accuracy_score(y_test, y_pred)\n",
    "print(\"Accuracy:\", accuracy)"
   ]
  },
  {
   "cell_type": "code",
   "execution_count": null,
   "id": "6a7b789e-d2d3-4680-9fc5-e79e4dc54e34",
   "metadata": {},
   "outputs": [],
   "source": [
    "# Confusion Matrix\n",
    "conf_matrix = confusion_matrix(y_test, y_pred)\n",
    "sns.heatmap(conf_matrix, annot=True, fmt='d', cmap='Blues', \n",
    "            xticklabels=['Not Sustainable', 'Sustainable'], \n",
    "            yticklabels=['Not Sustainable', 'Sustainable'])\n",
    "plt.xlabel('Predicted')\n",
    "plt.ylabel('Actual')\n",
    "plt.title('Confusion Matrix')\n",
    "plt.show()"
   ]
  },
  {
   "cell_type": "code",
   "execution_count": null,
   "id": "81bddede-289e-408f-8939-d6dac067f4f3",
   "metadata": {},
   "outputs": [],
   "source": [
    "# Classification Report\n",
    "print(classification_report(y_test, y_pred, \n",
    "                            target_names=['Not Sustainable', \n",
    "                                                          'Sustainable']))"
   ]
  },
  {
   "cell_type": "code",
   "execution_count": null,
   "id": "1b329672-d4af-4400-afb0-54276b144775",
   "metadata": {},
   "outputs": [],
   "source": [
    "# Feature importance\n",
    "coefficients = pd.DataFrame(model.coef_.T, \n",
    "                            index=X.columns, columns=['Coefficient'])\n",
    "print(coefficients)"
   ]
  },
  {
   "cell_type": "code",
   "execution_count": null,
   "id": "f9e5d571",
   "metadata": {},
   "outputs": [],
   "source": []
  }
 ],
 "metadata": {
  "kernelspec": {
   "display_name": "Python 3",
   "language": "python",
   "name": "python3"
  },
  "language_info": {
   "codemirror_mode": {
    "name": "ipython",
    "version": 3
   },
   "file_extension": ".py",
   "mimetype": "text/x-python",
   "name": "python",
   "nbconvert_exporter": "python",
   "pygments_lexer": "ipython3",
   "version": "3.8.8"
  }
 },
 "nbformat": 4,
 "nbformat_minor": 5
}
